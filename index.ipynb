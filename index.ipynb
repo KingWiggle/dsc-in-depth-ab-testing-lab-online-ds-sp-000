{
 "cells": [
  {
   "cell_type": "markdown",
   "metadata": {},
   "source": [
    "# In Depth A/B Testing - Lab\n",
    "\n",
    "## Introduction\n",
    "\n",
    "In this lab, you'll explore a survey from Kaggle regarding budding data scientists. With this, you'll form some initial hypotheses, and test them using the tools you've acquired to date. \n",
    "\n",
    "## Objectives\n",
    "\n",
    "You will be able to:\n",
    "* Conduct t-tests and an ANOVA on a real-world dataset and interpret the results"
   ]
  },
  {
   "cell_type": "markdown",
   "metadata": {},
   "source": [
    "## Load the Dataset and Perform a Brief Exploration\n",
    "\n",
    "The data is stored in a file called **multipleChoiceResponses_cleaned.csv**. Feel free to check out the original dataset referenced at the bottom of this lab, although this cleaned version will undoubtedly be easier to work with. Additionally, meta-data regarding the questions is stored in a file name **schema.csv**. Load in the data itself as a Pandas DataFrame, and take a moment to briefly get acquainted with it.\n",
    "\n",
    "> Note: If you can't get the file to load properly, try changing the encoding format as in `encoding='latin1'`"
   ]
  },
  {
   "cell_type": "code",
   "execution_count": 88,
   "metadata": {},
   "outputs": [],
   "source": [
    "import pandas as pd\n",
    "from flatiron_stats import *\n",
    "import numpy as np\n",
    "from scipy import stats\n",
    "import seaborn as sns\n",
    "import matplotlib.pyplot as plt\n",
    "from statsmodels.formula.api import ols\n",
    "import statsmodels.api as sm"
   ]
  },
  {
   "cell_type": "code",
   "execution_count": 16,
   "metadata": {},
   "outputs": [
    {
     "name": "stdout",
     "output_type": "stream",
     "text": [
      "Index(['GenderSelect', 'Country', 'Age', 'EmploymentStatus', 'StudentStatus',\n",
      "       'LearningDataScience', 'CodeWriter', 'CareerSwitcher',\n",
      "       'CurrentJobTitleSelect', 'TitleFit',\n",
      "       ...\n",
      "       'JobFactorTitle', 'JobFactorCompanyFunding', 'JobFactorImpact',\n",
      "       'JobFactorRemote', 'JobFactorIndustry', 'JobFactorLeaderReputation',\n",
      "       'JobFactorDiversity', 'JobFactorPublishingOpportunity', 'exchangeRate',\n",
      "       'AdjustedCompensation'],\n",
      "      dtype='object', length=230)\n"
     ]
    },
    {
     "data": {
      "text/html": [
       "<div>\n",
       "<style scoped>\n",
       "    .dataframe tbody tr th:only-of-type {\n",
       "        vertical-align: middle;\n",
       "    }\n",
       "\n",
       "    .dataframe tbody tr th {\n",
       "        vertical-align: top;\n",
       "    }\n",
       "\n",
       "    .dataframe thead th {\n",
       "        text-align: right;\n",
       "    }\n",
       "</style>\n",
       "<table border=\"1\" class=\"dataframe\">\n",
       "  <thead>\n",
       "    <tr style=\"text-align: right;\">\n",
       "      <th></th>\n",
       "      <th>GenderSelect</th>\n",
       "      <th>Country</th>\n",
       "      <th>Age</th>\n",
       "      <th>EmploymentStatus</th>\n",
       "      <th>StudentStatus</th>\n",
       "      <th>LearningDataScience</th>\n",
       "      <th>CodeWriter</th>\n",
       "      <th>CareerSwitcher</th>\n",
       "      <th>CurrentJobTitleSelect</th>\n",
       "      <th>TitleFit</th>\n",
       "      <th>...</th>\n",
       "      <th>JobFactorTitle</th>\n",
       "      <th>JobFactorCompanyFunding</th>\n",
       "      <th>JobFactorImpact</th>\n",
       "      <th>JobFactorRemote</th>\n",
       "      <th>JobFactorIndustry</th>\n",
       "      <th>JobFactorLeaderReputation</th>\n",
       "      <th>JobFactorDiversity</th>\n",
       "      <th>JobFactorPublishingOpportunity</th>\n",
       "      <th>exchangeRate</th>\n",
       "      <th>AdjustedCompensation</th>\n",
       "    </tr>\n",
       "  </thead>\n",
       "  <tbody>\n",
       "    <tr>\n",
       "      <th>0</th>\n",
       "      <td>Non-binary, genderqueer, or gender non-conforming</td>\n",
       "      <td>NaN</td>\n",
       "      <td>NaN</td>\n",
       "      <td>Employed full-time</td>\n",
       "      <td>NaN</td>\n",
       "      <td>NaN</td>\n",
       "      <td>Yes</td>\n",
       "      <td>NaN</td>\n",
       "      <td>DBA/Database Engineer</td>\n",
       "      <td>Fine</td>\n",
       "      <td>...</td>\n",
       "      <td>NaN</td>\n",
       "      <td>NaN</td>\n",
       "      <td>NaN</td>\n",
       "      <td>NaN</td>\n",
       "      <td>NaN</td>\n",
       "      <td>NaN</td>\n",
       "      <td>NaN</td>\n",
       "      <td>NaN</td>\n",
       "      <td>NaN</td>\n",
       "      <td>NaN</td>\n",
       "    </tr>\n",
       "    <tr>\n",
       "      <th>1</th>\n",
       "      <td>Female</td>\n",
       "      <td>United States</td>\n",
       "      <td>30.0</td>\n",
       "      <td>Not employed, but looking for work</td>\n",
       "      <td>NaN</td>\n",
       "      <td>NaN</td>\n",
       "      <td>NaN</td>\n",
       "      <td>NaN</td>\n",
       "      <td>NaN</td>\n",
       "      <td>NaN</td>\n",
       "      <td>...</td>\n",
       "      <td>NaN</td>\n",
       "      <td>NaN</td>\n",
       "      <td>NaN</td>\n",
       "      <td>NaN</td>\n",
       "      <td>NaN</td>\n",
       "      <td>Somewhat important</td>\n",
       "      <td>NaN</td>\n",
       "      <td>NaN</td>\n",
       "      <td>NaN</td>\n",
       "      <td>NaN</td>\n",
       "    </tr>\n",
       "    <tr>\n",
       "      <th>2</th>\n",
       "      <td>Male</td>\n",
       "      <td>Canada</td>\n",
       "      <td>28.0</td>\n",
       "      <td>Not employed, but looking for work</td>\n",
       "      <td>NaN</td>\n",
       "      <td>NaN</td>\n",
       "      <td>NaN</td>\n",
       "      <td>NaN</td>\n",
       "      <td>NaN</td>\n",
       "      <td>NaN</td>\n",
       "      <td>...</td>\n",
       "      <td>Very Important</td>\n",
       "      <td>Very Important</td>\n",
       "      <td>Very Important</td>\n",
       "      <td>Very Important</td>\n",
       "      <td>Very Important</td>\n",
       "      <td>Very Important</td>\n",
       "      <td>Very Important</td>\n",
       "      <td>Very Important</td>\n",
       "      <td>NaN</td>\n",
       "      <td>NaN</td>\n",
       "    </tr>\n",
       "    <tr>\n",
       "      <th>3</th>\n",
       "      <td>Male</td>\n",
       "      <td>United States</td>\n",
       "      <td>56.0</td>\n",
       "      <td>Independent contractor, freelancer, or self-em...</td>\n",
       "      <td>NaN</td>\n",
       "      <td>NaN</td>\n",
       "      <td>Yes</td>\n",
       "      <td>NaN</td>\n",
       "      <td>Operations Research Practitioner</td>\n",
       "      <td>Poorly</td>\n",
       "      <td>...</td>\n",
       "      <td>NaN</td>\n",
       "      <td>NaN</td>\n",
       "      <td>NaN</td>\n",
       "      <td>NaN</td>\n",
       "      <td>NaN</td>\n",
       "      <td>NaN</td>\n",
       "      <td>NaN</td>\n",
       "      <td>NaN</td>\n",
       "      <td>1.0</td>\n",
       "      <td>250000.0</td>\n",
       "    </tr>\n",
       "    <tr>\n",
       "      <th>4</th>\n",
       "      <td>Male</td>\n",
       "      <td>Taiwan</td>\n",
       "      <td>38.0</td>\n",
       "      <td>Employed full-time</td>\n",
       "      <td>NaN</td>\n",
       "      <td>NaN</td>\n",
       "      <td>Yes</td>\n",
       "      <td>NaN</td>\n",
       "      <td>Computer Scientist</td>\n",
       "      <td>Fine</td>\n",
       "      <td>...</td>\n",
       "      <td>NaN</td>\n",
       "      <td>NaN</td>\n",
       "      <td>NaN</td>\n",
       "      <td>NaN</td>\n",
       "      <td>NaN</td>\n",
       "      <td>NaN</td>\n",
       "      <td>NaN</td>\n",
       "      <td>NaN</td>\n",
       "      <td>NaN</td>\n",
       "      <td>NaN</td>\n",
       "    </tr>\n",
       "  </tbody>\n",
       "</table>\n",
       "<p>5 rows × 230 columns</p>\n",
       "</div>"
      ],
      "text/plain": [
       "                                        GenderSelect        Country   Age  \\\n",
       "0  Non-binary, genderqueer, or gender non-conforming            NaN   NaN   \n",
       "1                                             Female  United States  30.0   \n",
       "2                                               Male         Canada  28.0   \n",
       "3                                               Male  United States  56.0   \n",
       "4                                               Male         Taiwan  38.0   \n",
       "\n",
       "                                    EmploymentStatus StudentStatus  \\\n",
       "0                                 Employed full-time           NaN   \n",
       "1                 Not employed, but looking for work           NaN   \n",
       "2                 Not employed, but looking for work           NaN   \n",
       "3  Independent contractor, freelancer, or self-em...           NaN   \n",
       "4                                 Employed full-time           NaN   \n",
       "\n",
       "  LearningDataScience CodeWriter CareerSwitcher  \\\n",
       "0                 NaN        Yes            NaN   \n",
       "1                 NaN        NaN            NaN   \n",
       "2                 NaN        NaN            NaN   \n",
       "3                 NaN        Yes            NaN   \n",
       "4                 NaN        Yes            NaN   \n",
       "\n",
       "              CurrentJobTitleSelect TitleFit         ...           \\\n",
       "0             DBA/Database Engineer     Fine         ...            \n",
       "1                               NaN      NaN         ...            \n",
       "2                               NaN      NaN         ...            \n",
       "3  Operations Research Practitioner   Poorly         ...            \n",
       "4                Computer Scientist     Fine         ...            \n",
       "\n",
       "   JobFactorTitle JobFactorCompanyFunding JobFactorImpact JobFactorRemote  \\\n",
       "0             NaN                     NaN             NaN             NaN   \n",
       "1             NaN                     NaN             NaN             NaN   \n",
       "2  Very Important          Very Important  Very Important  Very Important   \n",
       "3             NaN                     NaN             NaN             NaN   \n",
       "4             NaN                     NaN             NaN             NaN   \n",
       "\n",
       "  JobFactorIndustry JobFactorLeaderReputation JobFactorDiversity  \\\n",
       "0               NaN                       NaN                NaN   \n",
       "1               NaN        Somewhat important                NaN   \n",
       "2    Very Important            Very Important     Very Important   \n",
       "3               NaN                       NaN                NaN   \n",
       "4               NaN                       NaN                NaN   \n",
       "\n",
       "  JobFactorPublishingOpportunity exchangeRate AdjustedCompensation  \n",
       "0                            NaN          NaN                  NaN  \n",
       "1                            NaN          NaN                  NaN  \n",
       "2                 Very Important          NaN                  NaN  \n",
       "3                            NaN          1.0             250000.0  \n",
       "4                            NaN          NaN                  NaN  \n",
       "\n",
       "[5 rows x 230 columns]"
      ]
     },
     "execution_count": 16,
     "metadata": {},
     "output_type": "execute_result"
    }
   ],
   "source": [
    "#Your code here\n",
    "\n",
    "data = pd.read_csv('multipleChoiceResponses_cleaned.csv', encoding='latin1')\n",
    "schema = pd.read_csv('schema.csv', encoding='latin1')\n",
    "\n",
    "print(data.columns)\n",
    "data.head()\n"
   ]
  },
  {
   "cell_type": "code",
   "execution_count": 17,
   "metadata": {},
   "outputs": [
    {
     "data": {
      "text/html": [
       "<div>\n",
       "<style scoped>\n",
       "    .dataframe tbody tr th:only-of-type {\n",
       "        vertical-align: middle;\n",
       "    }\n",
       "\n",
       "    .dataframe tbody tr th {\n",
       "        vertical-align: top;\n",
       "    }\n",
       "\n",
       "    .dataframe thead th {\n",
       "        text-align: right;\n",
       "    }\n",
       "</style>\n",
       "<table border=\"1\" class=\"dataframe\">\n",
       "  <thead>\n",
       "    <tr style=\"text-align: right;\">\n",
       "      <th></th>\n",
       "      <th>Column</th>\n",
       "      <th>Question</th>\n",
       "      <th>Asked</th>\n",
       "    </tr>\n",
       "  </thead>\n",
       "  <tbody>\n",
       "    <tr>\n",
       "      <th>0</th>\n",
       "      <td>GenderSelect</td>\n",
       "      <td>Select your gender identity. - Selected Choice</td>\n",
       "      <td>All</td>\n",
       "    </tr>\n",
       "    <tr>\n",
       "      <th>1</th>\n",
       "      <td>GenderFreeForm</td>\n",
       "      <td>Select your gender identity. - A different ide...</td>\n",
       "      <td>All</td>\n",
       "    </tr>\n",
       "    <tr>\n",
       "      <th>2</th>\n",
       "      <td>Country</td>\n",
       "      <td>Select the country you currently live in.</td>\n",
       "      <td>All</td>\n",
       "    </tr>\n",
       "    <tr>\n",
       "      <th>3</th>\n",
       "      <td>Age</td>\n",
       "      <td>What's your age?</td>\n",
       "      <td>All</td>\n",
       "    </tr>\n",
       "    <tr>\n",
       "      <th>4</th>\n",
       "      <td>EmploymentStatus</td>\n",
       "      <td>What's your current employment status?</td>\n",
       "      <td>All</td>\n",
       "    </tr>\n",
       "  </tbody>\n",
       "</table>\n",
       "</div>"
      ],
      "text/plain": [
       "             Column                                           Question Asked\n",
       "0      GenderSelect     Select your gender identity. - Selected Choice   All\n",
       "1    GenderFreeForm  Select your gender identity. - A different ide...   All\n",
       "2           Country          Select the country you currently live in.   All\n",
       "3               Age                                   What's your age?   All\n",
       "4  EmploymentStatus             What's your current employment status?   All"
      ]
     },
     "execution_count": 17,
     "metadata": {},
     "output_type": "execute_result"
    }
   ],
   "source": [
    "schema.head()"
   ]
  },
  {
   "cell_type": "markdown",
   "metadata": {},
   "source": [
    "## Wages and Education\n",
    "\n",
    "You've been asked to determine whether education is impactful to salary. Develop a hypothesis test to compare the salaries of those with Master's degrees to those with Bachelor's degrees. Are the two statistically different according to your results?\n",
    "\n",
    "> Note: The relevant features are stored in the 'FormalEducation' and 'AdjustedCompensation' features.\n",
    "\n",
    "You may import the functions stored in the `flatiron_stats.py` file to help perform your hypothesis tests. It contains the stats functions that you previously coded: `welch_t(a,b)`, `welch_df(a, b)`, and `p_value(a, b, two_sided=False)`. \n",
    "\n",
    "Note that `scipy.stats.ttest_ind(a, b, equal_var=False)` performs a two-sided Welch's t-test and that p-values derived from two-sided tests are two times the p-values derived from one-sided tests. See the [documentation](https://docs.scipy.org/doc/scipy/reference/generated/scipy.stats.ttest_ind.html) for more information.    "
   ]
  },
  {
   "cell_type": "code",
   "execution_count": 47,
   "metadata": {},
   "outputs": [],
   "source": [
    "#Your code here\n",
    "\n",
    "#H0: There is no difference between the salaries of people with bachelors degrees\n",
    "#    and the salaries of people with masters degrees. \n",
    "#    i.e. mu(salary bachelors) = mu(salary masters)\n",
    "\n",
    "#HA: There salaries of people with masters degrees are greater than the salaries\n",
    "#    of people with bachelors degrees. \n",
    "#    i.e. mu(salary masters) > mu(salary bachelors)\n",
    "\n",
    "bach_salaries = data[data['FormalEducation']=='Bachelor\\'s degree']['AdjustedCompensation'].dropna()\n",
    "mast_salaries = data[data['FormalEducation']=='Master\\'s degree']['AdjustedCompensation'].dropna()\n",
    "\n"
   ]
  },
  {
   "cell_type": "code",
   "execution_count": 65,
   "metadata": {
    "scrolled": false
   },
   "outputs": [
    {
     "data": {
      "text/plain": [
       "<matplotlib.axes._subplots.AxesSubplot at 0x13289db00>"
      ]
     },
     "execution_count": 65,
     "metadata": {},
     "output_type": "execute_result"
    },
    {
     "data": {
      "image/png": "[encoded data removed]",
      "text/plain": [
       "<Figure size 720x432 with 1 Axes>"
      ]
     },
     "metadata": {
      "needs_background": "light"
     },
     "output_type": "display_data"
    }
   ],
   "source": [
    "fig = plt.figure(figsize=(10,6))\n",
    "sns.distplot(bach_salaries)\n",
    "sns.distplot(mast_salaries)\n",
    "plt.show()"
   ]
  },
  {
   "cell_type": "code",
   "execution_count": 72,
   "metadata": {},
   "outputs": [
    {
     "name": "stdout",
     "output_type": "stream",
     "text": [
      "Comparison of AdjustedCompensation for Master's degree and Bachelor's degree\n",
      "Median Values: \tMaster's: 53812.17 \tBachelor's: 38399.4\n",
      "Mean Values: \tMaster's: 69139.9 \tBachelor's: 64887.1\n",
      "Sample Sizes: \tMaster's: 1990 \tBachelor's: 1107\n",
      "Welch's t-test p-value: 0.33077639451272267\n"
     ]
    }
   ],
   "source": [
    "print('Comparison of {} for {} and {}'.format('AdjustedCompensation', 'Master\\'s degree', 'Bachelor\\'s degree'))\n",
    "print(\"Median Values: \\tMaster\\'s: {} \\tBachelor\\'s: {}\".format(round(mast_salaries.median(),2), round(bach_salaries.median(),2)))\n",
    "print(\"Mean Values: \\tMaster\\'s: {} \\tBachelor\\'s: {}\".format(round(mast_salaries.mean(),2), round(bach_salaries.mean(),2)))\n",
    "print(\"Sample Sizes: \\tMaster\\'s: {} \\tBachelor\\'s: {}\".format(len(mast_salaries), len(bach_salaries)))\n",
    "print(\"Welch's t-test p-value:\", p_value_welch_ttest(mast_salaries, bach_salaries))\n",
    "                                                               \n",
    "                                                               "
   ]
  },
  {
   "cell_type": "markdown",
   "metadata": {},
   "source": [
    "With a p_val greater than our alpha threshold, we fail to reject the null hypothesis of there is no difference between the salaries of people with bachelors degrees and the salaries of people with masters degrees."
   ]
  },
  {
   "cell_type": "code",
   "execution_count": 73,
   "metadata": {},
   "outputs": [
    {
     "name": "stdout",
     "output_type": "stream",
     "text": [
      "0.8th percentile:\tset1: 103000.0\tset2: 93233.13\n",
      "0.81th percentile:\tset1: 107009.0\tset2: 95572.83\n",
      "0.82th percentile:\tset1: 110000.0\tset2: 99276.38\n",
      "0.83th percentile:\tset1: 111503.83\tset2: 100000.0\n",
      "0.84th percentile:\tset1: 115240.4\tset2: 103040.0\n",
      "0.85th percentile:\tset1: 119582.6\tset2: 105935.04\n",
      "0.86th percentile:\tset1: 120000.0\tset2: 110000.0\n",
      "0.87th percentile:\tset1: 124719.88\tset2: 112000.0\n",
      "0.88th percentile:\tset1: 129421.46\tset2: 115000.0\n",
      "0.89th percentile:\tset1: 130000.0\tset2: 120000.0\n",
      "0.9th percentile:\tset1: 135000.0\tset2: 120346.5\n",
      "0.91th percentile:\tset1: 140000.0\tset2: 126460.0\n",
      "0.92th percentile:\tset1: 149640.0\tset2: 132615.4\n",
      "0.93th percentile:\tset1: 150000.0\tset2: 140000.0\n",
      "0.94th percentile:\tset1: 160000.0\tset2: 143408.8\n",
      "0.95th percentile:\tset1: 166778.6\tset2: 150000.0\n",
      "0.96th percentile:\tset1: 180000.0\tset2: 179849.74\n",
      "0.97th percentile:\tset1: 200000.0\tset2: 195000.0\n",
      "0.98th percentile:\tset1: 211100.0\tset2: 200000.0\n",
      "0.99th percentile:\tset1: 250000.0\tset2: 250000.0\n",
      "1.0th percentile:\tset1: 4498900.0\tset2: 9999999.0\n"
     ]
    }
   ],
   "source": [
    "for q in np.linspace(.8, 1, num=21):\n",
    "    s1q =  round(mast_salaries.quantile(q=q), 2)\n",
    "    s2q =  round(bach_salaries.quantile(q=q), 2)\n",
    "    print('{}th percentile:\\tset1: {}\\tset2: {}'.format(round(q,2), s1q, s2q))"
   ]
  },
  {
   "cell_type": "code",
   "execution_count": 76,
   "metadata": {},
   "outputs": [
    {
     "name": "stdout",
     "output_type": "stream",
     "text": [
      "Comparison of AdjustedCompensation for Master's degree and Bachelor's degree\n",
      "Median Values: \tMaster's: 53445.86 \tBachelor's: 38292.15\n",
      "Mean Values: \tMaster's: 63756.86 \tBachelor's: 53744.35\n",
      "Sample Sizes: \tMaster's: 1984 \tBachelor's: 1103\n",
      "Welch's t-test p-value: 6.694760973369185e-07\n"
     ]
    },
    {
     "data": {
      "image/png": "[encoded data removed]",
      "text/plain": [
       "<Figure size 720x432 with 1 Axes>"
      ]
     },
     "metadata": {
      "needs_background": "light"
     },
     "output_type": "display_data"
    }
   ],
   "source": [
    "#outlier threshold taken from the study of percentiles above\n",
    "outlier_threshold = 500000\n",
    "mast_wo = mast_salaries[mast_salaries < 500000]\n",
    "bach_wo = bach_salaries[bach_salaries < 500000]\n",
    "\n",
    "fig = plt.figure(figsize=(10,6))\n",
    "sns.distplot(bach_wo)\n",
    "sns.distplot(mast_wo)\n",
    "\n",
    "print('Comparison of {} for {} and {}'.format('AdjustedCompensation', 'Master\\'s degree', 'Bachelor\\'s degree'))\n",
    "print(\"Median Values: \\tMaster\\'s: {} \\tBachelor\\'s: {}\".format(round(mast_wo.median(),2), round(bach_wo.median(),2)))\n",
    "print(\"Mean Values: \\tMaster\\'s: {} \\tBachelor\\'s: {}\".format(round(mast_wo.mean(),2), round(bach_wo.mean(),2)))\n",
    "print(\"Sample Sizes: \\tMaster\\'s: {} \\tBachelor\\'s: {}\".format(len(mast_wo), len(bach_wo)))\n",
    "print(\"Welch's t-test p-value:\", p_value_welch_ttest(mast_wo, bach_wo))\n",
    " \n"
   ]
  },
  {
   "cell_type": "markdown",
   "metadata": {},
   "source": [
    "With the outliers removed, the t-test p_val is now below the alpha threshold and so we reject the null hypothesis that there is no difference.  "
   ]
  },
  {
   "cell_type": "markdown",
   "metadata": {},
   "source": [
    "## Wages and Education II\n",
    "\n",
    "Now perform a similar statistical test comparing the AdjustedCompensation of those with Bachelor's degrees and those with Doctorates. If you haven't already, be sure to explore the distribution of the AdjustedCompensation feature for any anomalies. "
   ]
  },
  {
   "cell_type": "code",
   "execution_count": 80,
   "metadata": {
    "scrolled": false
   },
   "outputs": [
    {
     "data": {
      "image/png": "[encoded data removed]",
      "text/plain": [
       "<Figure size 720x432 with 1 Axes>"
      ]
     },
     "metadata": {
      "needs_background": "light"
     },
     "output_type": "display_data"
    },
    {
     "name": "stdout",
     "output_type": "stream",
     "text": [
      "Comparison of AdjustedCompensation for Doctoral degree and Bachelor's degree\n",
      "Median Values: \tDoctoral: 74131.92 \tBachelor's: 38399.4\n",
      "Mean Values: \tDoctoral: 29566175.76 \tBachelor's: 64887.1\n",
      "Sample Sizes: \tDoctoral: 967 \tBachelor's: 1107\n",
      "Welch's t-test p-value: 0.1568238199472023\n"
     ]
    }
   ],
   "source": [
    "doct_salaries = data[data['FormalEducation']=='Doctoral degree']['AdjustedCompensation'].dropna()\n",
    "\n",
    "fig = plt.figure(figsize=(10,6))\n",
    "sns.distplot(bach_salaries)\n",
    "sns.distplot(doct_salaries)\n",
    "plt.show()\n",
    "\n",
    "print('Comparison of {} for {} and {}'.format('AdjustedCompensation', 'Doctoral degree', 'Bachelor\\'s degree'))\n",
    "print(\"Median Values: \\tDoctoral: {} \\tBachelor\\'s: {}\".format(round(doct_salaries.median(),2), round(bach_salaries.median(),2)))\n",
    "print(\"Mean Values: \\tDoctoral: {} \\tBachelor\\'s: {}\".format(round(doct_salaries.mean(),2), round(bach_salaries.mean(),2)))\n",
    "print(\"Sample Sizes: \\tDoctoral: {} \\tBachelor\\'s: {}\".format(len(doct_salaries), len(bach_salaries)))\n",
    "print(\"Welch's t-test p-value:\", p_value_welch_ttest(doct_salaries, bach_salaries))\n",
    "\n"
   ]
  },
  {
   "cell_type": "code",
   "execution_count": 81,
   "metadata": {},
   "outputs": [
    {
     "name": "stdout",
     "output_type": "stream",
     "text": [
      "0.8th percentile:\tset1: 135000.0\tset2: 93233.13\n",
      "0.81th percentile:\tset1: 140000.0\tset2: 95572.83\n",
      "0.82th percentile:\tset1: 140000.0\tset2: 99276.38\n",
      "0.83th percentile:\tset1: 146796.17\tset2: 100000.0\n",
      "0.84th percentile:\tset1: 150000.0\tset2: 103040.0\n",
      "0.85th percentile:\tset1: 150000.0\tset2: 105935.04\n",
      "0.86th percentile:\tset1: 155000.0\tset2: 110000.0\n",
      "0.87th percentile:\tset1: 160000.0\tset2: 112000.0\n",
      "0.88th percentile:\tset1: 160000.0\tset2: 115000.0\n",
      "0.89th percentile:\tset1: 166480.0\tset2: 120000.0\n",
      "0.9th percentile:\tset1: 172057.78\tset2: 120346.5\n",
      "0.91th percentile:\tset1: 175000.0\tset2: 126460.0\n",
      "0.92th percentile:\tset1: 181555.2\tset2: 132615.4\n",
      "0.93th percentile:\tset1: 191900.0\tset2: 140000.0\n",
      "0.94th percentile:\tset1: 200000.0\tset2: 143408.8\n",
      "0.95th percentile:\tset1: 200000.0\tset2: 150000.0\n",
      "0.96th percentile:\tset1: 220999.61\tset2: 179849.74\n",
      "0.97th percentile:\tset1: 240879.14\tset2: 195000.0\n",
      "0.98th percentile:\tset1: 277349.78\tset2: 200000.0\n",
      "0.99th percentile:\tset1: 336800.0\tset2: 250000.0\n",
      "1.0th percentile:\tset1: 28297400000.0\tset2: 9999999.0\n"
     ]
    }
   ],
   "source": [
    "for q in np.linspace(.8, 1, num=21):\n",
    "    s1q =  round(doct_salaries.quantile(q=q), 2)\n",
    "    s2q =  round(bach_salaries.quantile(q=q), 2)\n",
    "    print('{}th percentile:\\tset1: {}\\tset2: {}'.format(round(q,2), s1q, s2q))"
   ]
  },
  {
   "cell_type": "code",
   "execution_count": 85,
   "metadata": {
    "scrolled": false
   },
   "outputs": [
    {
     "name": "stdout",
     "output_type": "stream",
     "text": [
      "Comparison of AdjustedCompensation for Doctoral degree and Bachelor's degree\n",
      "Median Values: \tDoctoral: 73152.77 \tBachelor's: 38292.15\n",
      "Mean Values: \tDoctoral: 86194.98 \tBachelor's: 53744.35\n",
      "Sample Sizes: \tDoctoral: 964 \tBachelor's: 1103\n",
      "Welch's t-test p-value: 0.0\n"
     ]
    },
    {
     "data": {
      "image/png": "[encoded data removed]",
      "text/plain": [
       "<Figure size 720x432 with 1 Axes>"
      ]
     },
     "metadata": {
      "needs_background": "light"
     },
     "output_type": "display_data"
    }
   ],
   "source": [
    "#outlier threshold taken from the study of percentiles above\n",
    "outlier_threshold = 500000\n",
    "doct_wo = doct_salaries[doct_salaries < 500000]\n",
    "\n",
    "fig = plt.figure(figsize=(10,6))\n",
    "sns.distplot(bach_wo)\n",
    "sns.distplot(doct_wo)\n",
    "\n",
    "print('Comparison of {} for {} and {}'.format('AdjustedCompensation', 'Doctoral degree', 'Bachelor\\'s degree'))\n",
    "print(\"Median Values: \\tDoctoral: {} \\tBachelor\\'s: {}\".format(round(doct_wo.median(),2), round(bach_wo.median(),2)))\n",
    "print(\"Mean Values: \\tDoctoral: {} \\tBachelor\\'s: {}\".format(round(doct_wo.mean(),2), round(bach_wo.mean(),2)))\n",
    "print(\"Sample Sizes: \\tDoctoral: {} \\tBachelor\\'s: {}\".format(len(doct_wo), len(bach_wo)))\n",
    "print(\"Welch's t-test p-value:\", p_value_welch_ttest(doct_wo, bach_wo))\n",
    "\n"
   ]
  },
  {
   "cell_type": "markdown",
   "metadata": {},
   "source": [
    "Similar to the prior example, we fail to reject the null hypothesis when outliers are included and reject it when they are removed.  There seems to be a statistically significant difference between the salaries of the educational groups.  \n",
    "\n",
    "## Wages and Education III\n",
    "\n",
    "Remember the multiple comparisons problem; rather than continuing on like this, perform an ANOVA test between the various 'FormalEducation' categories and their relation to 'AdjustedCompensation'."
   ]
  },
  {
   "cell_type": "code",
   "execution_count": 89,
   "metadata": {},
   "outputs": [
    {
     "name": "stdout",
     "output_type": "stream",
     "text": [
      "                          sum_sq      df         F    PR(>F)\n",
      "C(FormalEducation)  6.540294e+17     6.0  0.590714  0.738044\n",
      "Residual            7.999414e+20  4335.0       NaN       NaN\n"
     ]
    }
   ],
   "source": [
    "#Your code here\n",
    "formula = 'AdjustedCompensation ~ C(FormalEducation)'\n",
    "lm = ols(formula,data).fit()\n",
    "table = sm.stats.anova_lm(lm,typ=2)\n",
    "print(table)\n"
   ]
  },
  {
   "cell_type": "code",
   "execution_count": 90,
   "metadata": {},
   "outputs": [
    {
     "name": "stdout",
     "output_type": "stream",
     "text": [
      "                          sum_sq      df          F        PR(>F)\n",
      "C(FormalEducation)  5.841881e+11     6.0  29.224224  1.727132e-34\n",
      "Residual            1.439270e+13  4320.0        NaN           NaN\n"
     ]
    }
   ],
   "source": [
    "data_wo = data[data.AdjustedCompensation <= 500000]\n",
    "formula = 'AdjustedCompensation ~ C(FormalEducation)'\n",
    "lm = ols(formula,data_wo).fit()\n",
    "table = sm.stats.anova_lm(lm,typ=2)\n",
    "print(table)\n"
   ]
  },
  {
   "cell_type": "markdown",
   "metadata": {},
   "source": [
    "The ANOVA table results agree with our t-tests.  With outliers included, the ANOVA table states that the null hypothesis fails to be rejected.  When removed, however, there is significant evidence that education levels leads to different salaries.  \n",
    "\n",
    "## Additional Resources\n",
    "\n",
    "Here's the original source where the data was taken from:  \n",
    "    [Kaggle Machine Learning & Data Science Survey 2017](https://www.kaggle.com/kaggle/kaggle-survey-2017)"
   ]
  },
  {
   "cell_type": "markdown",
   "metadata": {},
   "source": [
    "## Summary\n",
    "\n",
    "In this lab, you practiced conducting actual hypothesis tests on actual data. From this, you saw how dependent results can be on the initial problem formulation, including preprocessing!"
   ]
  }
 ],
 "metadata": {
  "kernelspec": {
   "display_name": "Python 3",
   "language": "python",
   "name": "python3"
  },
  "language_info": {
   "codemirror_mode": {
    "name": "ipython",
    "version": 3
   },
   "file_extension": ".py",
   "mimetype": "text/x-python",
   "name": "python",
   "nbconvert_exporter": "python",
   "pygments_lexer": "ipython3",
   "version": "3.7.1"
  },
  "toc": {
   "base_numbering": 1,
   "nav_menu": {},
   "number_sections": true,
   "sideBar": true,
   "skip_h1_title": false,
   "title_cell": "Table of Contents",
   "title_sidebar": "Contents",
   "toc_cell": false,
   "toc_position": {},
   "toc_section_display": true,
   "toc_window_display": false
  }
 },
 "nbformat": 4,
 "nbformat_minor": 2
}
